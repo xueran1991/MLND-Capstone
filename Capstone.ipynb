{
 "cells": [
  {
   "cell_type": "markdown",
   "metadata": {},
   "source": [
    "# 数据预处理\n",
    "\n",
    "## 探索数据集\n",
    "\n",
    "100000个图像问价存储在“/input/”文件路径中，图像文件的真实标签和详细路径存储在‘train.csv’文件中，文件的前两行是<br>\n",
    "‘filename,label <br>\n",
    "train/0.jpg,(0+0)+9=9’。"
   ]
  },
  {
   "cell_type": "code",
   "execution_count": 1,
   "metadata": {},
   "outputs": [],
   "source": [
    "##获取数据集实际标签 和 文件路径\n",
    "\n",
    "import csv\n",
    "import numpy as np\n",
    "\n",
    "csv_file = \"input/train.csv\"\n",
    "reader = csv.reader(open(csv_file))\n",
    "csv_data = []\n",
    "for item in reader:\n",
    "    csv_data.append(item)\n",
    "csv_data = csv_data[1:]\n",
    "\n",
    "img_path = ['input/'+label[0] for label in csv_data] # 路径\n",
    "labels = [label[1] for label in csv_data] # 标签"
   ]
  },
  {
   "cell_type": "code",
   "execution_count": 2,
   "metadata": {},
   "outputs": [],
   "source": [
    "## 定义常量\n",
    "\n",
    "#算式中的字符集\n",
    "chars = '0123456789+-*()=' \n",
    "chars_array = np.array(list(chars))\n",
    "\n",
    "#分类数量\n",
    "n_class = len(chars)+1\n",
    "#算式最大长度 = 11\n",
    "n_seq = 17\n"
   ]
  },
  {
   "cell_type": "code",
   "execution_count": 3,
   "metadata": {},
   "outputs": [
    {
     "name": "stdout",
     "output_type": "stream",
     "text": [
      "80000 10000 10000\n"
     ]
    }
   ],
   "source": [
    "# 将数据集随机分为训练集、验证集和测试集\n",
    "from sklearn.model_selection import train_test_split\n",
    "\n",
    "img_path_, img_path_test, labels_, labels_test = train_test_split(img_path, labels, \n",
    "                                                                test_size=10000, random_state=9999)\n",
    "img_path_train, img_path_valid, labels_train, labels_valid = train_test_split(img_path_, labels_, \n",
    "                                                                test_size=10000, random_state=9999)\n",
    "\n",
    "print(len(img_path_train),len(img_path_valid),len(img_path_test))"
   ]
  },
  {
   "cell_type": "code",
   "execution_count": 6,
   "metadata": {},
   "outputs": [],
   "source": [
    "from keras.preprocessing import image  \n",
    "import cv2\n",
    "import string\n",
    "\n",
    "# 将文件路径转换成CNN输入的4维数组（num_samples, rows, columns, channels）\n",
    "def path_to_tensor(path):\n",
    "    img = cv2.imread(path)\n",
    "    gray = cv2.cvtColor(img, cv2.COLOR_BGR2GRAY)/255 #转换图像像素为灰度值，并进行归一化\n",
    "    gray = image.img_to_array(gray)\n",
    "    return np.expand_dims(gray, axis=0)\n",
    "\n",
    "def paths_to_tensors(paths):\n",
    "    list_tensors = [path_to_tensor(path) for path in paths]\n",
    "    return np.vstack(list_tensors)\n",
    "\n",
    "# 获取真实标签长度\n",
    "def get_label_length(labels):\n",
    "    length = np.zeros((len(labels),1))\n",
    "    for i, label in enumerate(labels):\n",
    "        length[i] = len(label)\n",
    "    return length\n",
    "        \n",
    "# 获取标签数组\n",
    "# code，长度为已经定义的最长字符串:n_seq\n",
    "def get_code(label):\n",
    "    code = np.zeros(n_seq)\n",
    "    for i, char in enumerate(label):\n",
    "        code[i] = chars.find(char)\n",
    "    return code\n"
   ]
  },
  {
   "cell_type": "code",
   "execution_count": 7,
   "metadata": {},
   "outputs": [],
   "source": [
    "# 生成数据集\n",
    "X_train, X_valid, X_test = [paths_to_tensors(img_path) for img_path in [img_path_train, img_path_valid, img_path_test]]\n",
    "\n",
    "y_train = np.array([get_code(label) for label in labels_train])\n",
    "y_valid = np.array([get_code(label) for label in labels_valid])\n",
    "y_test = np.array([get_code(label) for label in labels_test])"
   ]
  },
  {
   "cell_type": "code",
   "execution_count": 110,
   "metadata": {},
   "outputs": [
    {
     "name": "stdout",
     "output_type": "stream",
     "text": [
      "((80000, 64, 300, 1), (10000, 64, 300, 1), (10000, 64, 300, 1))\n",
      "((80000, 17), (10000, 17), (10000, 17))\n"
     ]
    }
   ],
   "source": [
    "# 查看数据集的维度\n",
    "print((X_train.shape,X_valid.shape,X_test.shape))\n",
    "print((y_train.shape,y_valid.shape,y_test.shape))"
   ]
  },
  {
   "cell_type": "code",
   "execution_count": 113,
   "metadata": {},
   "outputs": [],
   "source": [
    "# 获取标签长度\n",
    "label_length_train = get_label_length(labels_train)\n",
    "label_length_valid = get_label_length(labels_valid)\n",
    "label_length_test = get_label_length(labels_test)"
   ]
  },
  {
   "cell_type": "code",
   "execution_count": 114,
   "metadata": {},
   "outputs": [
    {
     "data": {
      "image/png": "[encoded data removed]",
      "text/plain": [
       "<Figure size 432x288 with 1 Axes>"
      ]
     },
     "metadata": {
      "needs_background": "light"
     },
     "output_type": "display_data"
    }
   ],
   "source": [
    "## 查看算式字符长度的分布直方图\n",
    "\n",
    "import matplotlib.pyplot as plt\n",
    "%matplotlib inline\n",
    "#length = get_label_length(labels)\n",
    "plt.subplot();\n",
    "plt.hist(x=[label_length_train,label_length_valid,label_length_test],\n",
    "         bins=[7,8,9,10,11,12],align='left',density=1,);\n",
    "plt.title('Label length distribution');\n",
    "plt.legend(['train','valid','test']);\n",
    "plt.xlabel('Label length');\n",
    "plt.ylabel('ratio');"
   ]
  },
  {
   "cell_type": "markdown",
   "metadata": {},
   "source": [
    "## 构建网络"
   ]
  },
  {
   "cell_type": "code",
   "execution_count": 11,
   "metadata": {},
   "outputs": [],
   "source": [
    "from keras.models import Sequential, Model\n",
    "from keras.layers import Conv2D, MaxPooling2D\n",
    "from keras.layers import BatchNormalization\n",
    "from keras.layers import Dropout, Flatten, Dense, Activation, Permute, TimeDistributed, Lambda, Input\n",
    "\n",
    "from keras.layers import LSTM, CuDNNLSTM, Bidirectional, CuDNNGRU\n",
    "from keras.regularizers import L1L2\n",
    "import matplotlib.pyplot as plt\n",
    "\n",
    "%matplotlib inline"
   ]
  },
  {
   "cell_type": "code",
   "execution_count": 25,
   "metadata": {},
   "outputs": [],
   "source": [
    "height, width, channel = X_train.shape[1:]\n",
    "#height, width, channel = [64, 300, 1]\n",
    "\n",
    "input_tensor = Input(shape=[height, width, channel])\n",
    "x = input_tensor\n",
    "for i in range(3):\n",
    "    x = Conv2D(32*2**i, 3, strides=1, padding='same', activation='relu')(x)\n",
    "    x = MaxPooling2D((2, 2), strides=2, padding='same')(x)\n",
    "    \n",
    "x = Conv2D(256, 3, strides=1, padding='same', activation='relu')(x)\n",
    "x = BatchNormalization(axis=-1, momentum=0.99, epsilon=0.001)(x)\n",
    "\n",
    "x = Conv2D(512, 3, strides=1, padding='same', activation='relu')(x)\n",
    "x = BatchNormalization(axis=-1, momentum=0.99, epsilon=0.001)(x)\n",
    "\n",
    "x = MaxPooling2D((1, 2), strides=2, padding='same')(x)\n",
    "x = Dropout(rate=0.7)(x)\n",
    "\n",
    "x = Permute((2,1,3))(x)\n",
    "\n",
    "x = TimeDistributed(Flatten())(x)\n",
    "\n",
    "x = Bidirectional(CuDNNLSTM(64, return_sequences=True))(x)\n",
    "x = Bidirectional(CuDNNLSTM(64, return_sequences=True))(x)\n",
    "\n",
    "y_pred = Dense(n_class,activation='softmax')(x)\n",
    "\n",
    "base_model = Model(inputs=input_tensor,outputs = y_pred)\n",
    "\n",
    "#base_model.summary()"
   ]
  },
  {
   "cell_type": "code",
   "execution_count": 26,
   "metadata": {},
   "outputs": [],
   "source": [
    "# 解码RNN输出的序列\n",
    "\n",
    "import re\n",
    "chars_space = chars + u' '\n",
    "def decode(pred):\n",
    "    # 输入base_mode的预测输出\n",
    "    pred = pred.argmax(axis=2)\n",
    "    orig_labels = []\n",
    "    new_labels = []\n",
    "    for i, code in enumerate(pred):\n",
    "        orig_labels.append(''.join([chars_space[x] for x in code]))\n",
    "    for string in orig_labels:\n",
    "        # 使用正则表达式去除RNN输出序列中多余的重复和空格\n",
    "        new_labels.append(re.sub(r'\\s','',re.sub(r'(.)\\1+', r'\\1', string)))\n",
    "                                 \n",
    "    return [np.array(orig_labels), np.array(new_labels)]\n",
    "    "
   ]
  },
  {
   "cell_type": "code",
   "execution_count": 27,
   "metadata": {},
   "outputs": [],
   "source": [
    "from keras.callbacks import *\n",
    "\n",
    "def evalute_valid(model):\n",
    "    pred = model.predict(X_valid)\n",
    "    _, new_labels = decode(pred)\n",
    "    return (new_labels==labels_valid).mean()*100\n",
    "\n",
    "class Evaluate(Callback):\n",
    "    def __init__(self):\n",
    "        self.accs = []\n",
    "    \n",
    "    def on_epoch_end(self, epoch, logs=None):\n",
    "        acc = evalute_valid(base_model)\n",
    "        self.accs.append(acc)\n",
    "        print('valid acc: %f%%'%acc)\n",
    "\n",
    "evaluator = Evaluate()"
   ]
  },
  {
   "cell_type": "code",
   "execution_count": 28,
   "metadata": {},
   "outputs": [
    {
     "name": "stdout",
     "output_type": "stream",
     "text": [
      "__________________________________________________________________________________________________\n",
      "Layer (type)                    Output Shape         Param #     Connected to                     \n",
      "==================================================================================================\n",
      "input_3 (InputLayer)            (None, 64, 300, 1)   0                                            \n",
      "__________________________________________________________________________________________________\n",
      "conv2d_11 (Conv2D)              (None, 64, 300, 32)  320         input_3[0][0]                    \n",
      "__________________________________________________________________________________________________\n",
      "max_pooling2d_9 (MaxPooling2D)  (None, 32, 150, 32)  0           conv2d_11[0][0]                  \n",
      "__________________________________________________________________________________________________\n",
      "conv2d_12 (Conv2D)              (None, 32, 150, 64)  18496       max_pooling2d_9[0][0]            \n",
      "__________________________________________________________________________________________________\n",
      "max_pooling2d_10 (MaxPooling2D) (None, 16, 75, 64)   0           conv2d_12[0][0]                  \n",
      "__________________________________________________________________________________________________\n",
      "conv2d_13 (Conv2D)              (None, 16, 75, 128)  73856       max_pooling2d_10[0][0]           \n",
      "__________________________________________________________________________________________________\n",
      "max_pooling2d_11 (MaxPooling2D) (None, 8, 38, 128)   0           conv2d_13[0][0]                  \n",
      "__________________________________________________________________________________________________\n",
      "conv2d_14 (Conv2D)              (None, 8, 38, 256)   295168      max_pooling2d_11[0][0]           \n",
      "__________________________________________________________________________________________________\n",
      "batch_normalization_5 (BatchNor (None, 8, 38, 256)   1024        conv2d_14[0][0]                  \n",
      "__________________________________________________________________________________________________\n",
      "conv2d_15 (Conv2D)              (None, 8, 38, 512)   1180160     batch_normalization_5[0][0]      \n",
      "__________________________________________________________________________________________________\n",
      "batch_normalization_6 (BatchNor (None, 8, 38, 512)   2048        conv2d_15[0][0]                  \n",
      "__________________________________________________________________________________________________\n",
      "max_pooling2d_12 (MaxPooling2D) (None, 4, 19, 512)   0           batch_normalization_6[0][0]      \n",
      "__________________________________________________________________________________________________\n",
      "dropout_3 (Dropout)             (None, 4, 19, 512)   0           max_pooling2d_12[0][0]           \n",
      "__________________________________________________________________________________________________\n",
      "permute_3 (Permute)             (None, 19, 4, 512)   0           dropout_3[0][0]                  \n",
      "__________________________________________________________________________________________________\n",
      "time_distributed_3 (TimeDistrib (None, 19, 2048)     0           permute_3[0][0]                  \n",
      "__________________________________________________________________________________________________\n",
      "bidirectional_5 (Bidirectional) (None, 19, 128)      1082368     time_distributed_3[0][0]         \n",
      "__________________________________________________________________________________________________\n",
      "bidirectional_6 (Bidirectional) (None, 19, 128)      99328       bidirectional_5[0][0]            \n",
      "__________________________________________________________________________________________________\n",
      "dense_3 (Dense)                 (None, 19, 17)       2193        bidirectional_6[0][0]            \n",
      "__________________________________________________________________________________________________\n",
      "the_labels (InputLayer)         (None, None)         0                                            \n",
      "__________________________________________________________________________________________________\n",
      "input_length (InputLayer)       (None, 1)            0                                            \n",
      "__________________________________________________________________________________________________\n",
      "label_length (InputLayer)       (None, 1)            0                                            \n",
      "__________________________________________________________________________________________________\n",
      "ctc (Lambda)                    (None, 1)            0           dense_3[0][0]                    \n",
      "                                                                 the_labels[0][0]                 \n",
      "                                                                 input_length[0][0]               \n",
      "                                                                 label_length[0][0]               \n",
      "==================================================================================================\n",
      "Total params: 2,754,961\n",
      "Trainable params: 2,753,425\n",
      "Non-trainable params: 1,536\n",
      "__________________________________________________________________________________________________\n"
     ]
    }
   ],
   "source": [
    "import keras.backend as K\n",
    "from keras.optimizers import Adadelta, SGD, RMSprop\n",
    "\n",
    "#  CTC-Loss function\n",
    "def ctc_lambda_func(args):\n",
    "    y_pred, labels, input_length, label_length = args\n",
    "    #y_pred = y_pred[:, 2:, :] 不屏蔽会报错\n",
    "    return K.ctc_batch_cost(labels, y_pred, input_length, label_length)\n",
    "\n",
    "labels = Input(name='the_labels', shape=[None], dtype='float32')\n",
    "input_length = Input(name='input_length', shape=[1], dtype='int64')\n",
    "label_length = Input(name='label_length', shape=[1], dtype='int64')\n",
    "loss_out = Lambda(ctc_lambda_func, output_shape=(1,), name='ctc')([y_pred, labels, input_length, label_length])\n",
    "\n",
    "# 定义优化器\n",
    "sgd = SGD(lr=0.01, decay=1e-6, momentum=0.9, nesterov=True, clipnorm=5)\n",
    "ada = Adadelta(lr=1.0, rho=0.95, epsilon=None, decay=0.0) # Keras推荐的默认参数，准确率震荡较大\n",
    "rms = RMSprop(lr=0.001, rho=0.9, epsilon=None, decay=0.0) # \n",
    "\n",
    "# 完整的 CNN + LSTM + CTC 模型 ：model\n",
    "model = Model(inputs=[input_tensor, labels, input_length, label_length], outputs=[loss_out])\n",
    "# 编译model\n",
    "model.compile(loss={'ctc': lambda y_true, y_pred: y_pred}, optimizer=sgd)\n",
    "\n",
    "model.summary()"
   ]
  },
  {
   "cell_type": "code",
   "execution_count": 29,
   "metadata": {},
   "outputs": [],
   "source": [
    "import os\n",
    "\n",
    "model_file_path = '/output/model01.hd5'\n",
    "\n",
    "if os.path.exists(model_file_path):\n",
    "    pass\n",
    "    #base_model.load_weights(model_file_path)"
   ]
  },
  {
   "cell_type": "code",
   "execution_count": 30,
   "metadata": {},
   "outputs": [
    {
     "name": "stdout",
     "output_type": "stream",
     "text": [
      "Train on 80000 samples, validate on 10000 samples\n",
      "Epoch 1/100\n",
      "80000/80000 [==============================] - 75s 943us/step - loss: 14.1848 - val_loss: 7.4667\n",
      "\n",
      "Epoch 00001: val_loss improved from inf to 7.46670, saving model to /output/model01.hd5\n",
      "valid acc: 11.620000%\n",
      "Epoch 2/100\n",
      "80000/80000 [==============================] - 74s 923us/step - loss: 2.4517 - val_loss: 1.2006\n",
      "\n",
      "Epoch 00002: val_loss improved from 7.46670 to 1.20059, saving model to /output/model01.hd5\n",
      "valid acc: 75.110000%\n",
      "Epoch 3/100\n",
      "80000/80000 [==============================] - 74s 924us/step - loss: 0.9899 - val_loss: 0.7811\n",
      "\n",
      "Epoch 00003: val_loss improved from 1.20059 to 0.78109, saving model to /output/model01.hd5\n",
      "valid acc: 84.070000%\n",
      "Epoch 4/100\n",
      "80000/80000 [==============================] - 74s 924us/step - loss: 0.5704 - val_loss: 0.3679\n",
      "\n",
      "Epoch 00004: val_loss improved from 0.78109 to 0.36791, saving model to /output/model01.hd5\n",
      "valid acc: 91.950000%\n",
      "Epoch 5/100\n",
      "80000/80000 [==============================] - 74s 924us/step - loss: 0.3890 - val_loss: 0.2817\n",
      "\n",
      "Epoch 00005: val_loss improved from 0.36791 to 0.28170, saving model to /output/model01.hd5\n",
      "valid acc: 94.020000%\n",
      "Epoch 6/100\n",
      "80000/80000 [==============================] - 74s 925us/step - loss: 0.2851 - val_loss: 0.3621\n",
      "\n",
      "Epoch 00006: val_loss did not improve from 0.28170\n",
      "valid acc: 92.140000%\n",
      "Epoch 7/100\n",
      "80000/80000 [==============================] - 74s 926us/step - loss: 0.2221 - val_loss: 0.2315\n",
      "\n",
      "Epoch 00007: val_loss improved from 0.28170 to 0.23153, saving model to /output/model01.hd5\n",
      "valid acc: 94.360000%\n",
      "Epoch 8/100\n",
      "80000/80000 [==============================] - 74s 923us/step - loss: 0.1804 - val_loss: 0.1493\n",
      "\n",
      "Epoch 00008: val_loss improved from 0.23153 to 0.14926, saving model to /output/model01.hd5\n",
      "valid acc: 96.820000%\n",
      "Epoch 9/100\n",
      "80000/80000 [==============================] - 74s 927us/step - loss: 0.1529 - val_loss: 0.1197\n",
      "\n",
      "Epoch 00009: val_loss improved from 0.14926 to 0.11970, saving model to /output/model01.hd5\n",
      "valid acc: 97.160000%\n",
      "Epoch 10/100\n",
      "80000/80000 [==============================] - 74s 926us/step - loss: 0.1342 - val_loss: 0.1167\n",
      "\n",
      "Epoch 00010: val_loss improved from 0.11970 to 0.11672, saving model to /output/model01.hd5\n",
      "valid acc: 97.320000%\n",
      "Epoch 11/100\n",
      "80000/80000 [==============================] - 74s 925us/step - loss: 0.1185 - val_loss: 0.1152\n",
      "\n",
      "Epoch 00011: val_loss improved from 0.11672 to 0.11522, saving model to /output/model01.hd5\n",
      "valid acc: 97.430000%\n",
      "Epoch 12/100\n",
      "80000/80000 [==============================] - 74s 926us/step - loss: 0.1026 - val_loss: 0.1666\n",
      "\n",
      "Epoch 00012: val_loss did not improve from 0.11522\n",
      "valid acc: 96.410000%\n",
      "Epoch 13/100\n",
      "80000/80000 [==============================] - 74s 926us/step - loss: 0.0891 - val_loss: 0.0923\n",
      "\n",
      "Epoch 00013: val_loss improved from 0.11522 to 0.09229, saving model to /output/model01.hd5\n",
      "valid acc: 97.980000%\n",
      "Epoch 14/100\n",
      "80000/80000 [==============================] - 74s 926us/step - loss: 0.0841 - val_loss: 0.1105\n",
      "\n",
      "Epoch 00014: val_loss did not improve from 0.09229\n",
      "valid acc: 97.590000%\n",
      "Epoch 15/100\n",
      "80000/80000 [==============================] - 74s 925us/step - loss: 0.0742 - val_loss: 0.1049\n",
      "\n",
      "Epoch 00015: val_loss did not improve from 0.09229\n",
      "valid acc: 97.960000%\n",
      "Epoch 16/100\n",
      "80000/80000 [==============================] - 74s 926us/step - loss: 0.0671 - val_loss: 0.1117\n",
      "\n",
      "Epoch 00016: val_loss did not improve from 0.09229\n",
      "valid acc: 97.480000%\n",
      "Epoch 17/100\n",
      "80000/80000 [==============================] - 74s 926us/step - loss: 0.0590 - val_loss: 0.0822\n",
      "\n",
      "Epoch 00017: val_loss improved from 0.09229 to 0.08223, saving model to /output/model01.hd5\n",
      "valid acc: 98.140000%\n",
      "Epoch 18/100\n",
      "80000/80000 [==============================] - 74s 926us/step - loss: 0.0560 - val_loss: 0.0995\n",
      "\n",
      "Epoch 00018: val_loss did not improve from 0.08223\n",
      "valid acc: 97.730000%\n",
      "Epoch 19/100\n",
      "80000/80000 [==============================] - 74s 926us/step - loss: 0.0551 - val_loss: 0.0731\n",
      "\n",
      "Epoch 00019: val_loss improved from 0.08223 to 0.07307, saving model to /output/model01.hd5\n",
      "valid acc: 98.410000%\n",
      "Epoch 20/100\n",
      "80000/80000 [==============================] - 74s 926us/step - loss: 0.0452 - val_loss: 0.0734\n",
      "\n",
      "Epoch 00020: val_loss did not improve from 0.07307\n",
      "valid acc: 98.390000%\n",
      "Epoch 21/100\n",
      "80000/80000 [==============================] - 74s 925us/step - loss: 0.0437 - val_loss: 0.0761\n",
      "\n",
      "Epoch 00021: val_loss did not improve from 0.07307\n",
      "valid acc: 98.290000%\n",
      "Epoch 22/100\n",
      "80000/80000 [==============================] - 74s 927us/step - loss: 0.0403 - val_loss: 0.0653\n",
      "\n",
      "Epoch 00022: val_loss improved from 0.07307 to 0.06530, saving model to /output/model01.hd5\n",
      "valid acc: 98.520000%\n",
      "Epoch 23/100\n",
      "80000/80000 [==============================] - 74s 926us/step - loss: 0.0376 - val_loss: 0.0698\n",
      "\n",
      "Epoch 00023: val_loss did not improve from 0.06530\n",
      "valid acc: 98.440000%\n",
      "Epoch 24/100\n",
      "80000/80000 [==============================] - 74s 925us/step - loss: 0.0388 - val_loss: 0.0688\n",
      "\n",
      "Epoch 00024: val_loss did not improve from 0.06530\n",
      "valid acc: 98.650000%\n",
      "Epoch 25/100\n",
      "80000/80000 [==============================] - 74s 927us/step - loss: 0.0377 - val_loss: 0.0707\n",
      "\n",
      "Epoch 00025: val_loss did not improve from 0.06530\n",
      "valid acc: 98.490000%\n",
      "Epoch 26/100\n",
      "80000/80000 [==============================] - 74s 925us/step - loss: 0.0350 - val_loss: 0.1700\n",
      "\n",
      "Epoch 00026: val_loss did not improve from 0.06530\n",
      "valid acc: 96.250000%\n",
      "Epoch 27/100\n",
      "80000/80000 [==============================] - 74s 925us/step - loss: 0.0332 - val_loss: 0.0600\n",
      "\n",
      "Epoch 00027: val_loss improved from 0.06530 to 0.06000, saving model to /output/model01.hd5\n",
      "valid acc: 98.680000%\n",
      "Epoch 28/100\n",
      "80000/80000 [==============================] - 74s 926us/step - loss: 0.0272 - val_loss: 0.0672\n",
      "\n",
      "Epoch 00028: val_loss did not improve from 0.06000\n",
      "valid acc: 98.320000%\n",
      "Epoch 29/100\n",
      "80000/80000 [==============================] - 74s 927us/step - loss: 0.0269 - val_loss: 0.0596\n",
      "\n",
      "Epoch 00029: val_loss improved from 0.06000 to 0.05959, saving model to /output/model01.hd5\n",
      "valid acc: 98.540000%\n",
      "Epoch 30/100\n",
      "80000/80000 [==============================] - 74s 924us/step - loss: 0.0266 - val_loss: 0.0757\n",
      "\n",
      "Epoch 00030: val_loss did not improve from 0.05959\n",
      "valid acc: 98.500000%\n",
      "Epoch 31/100\n",
      "80000/80000 [==============================] - 74s 927us/step - loss: 0.0227 - val_loss: 0.0603\n",
      "\n",
      "Epoch 00031: val_loss did not improve from 0.05959\n",
      "valid acc: 98.710000%\n",
      "Epoch 32/100\n",
      "80000/80000 [==============================] - 74s 927us/step - loss: 0.0224 - val_loss: 0.0529\n",
      "\n",
      "Epoch 00032: val_loss improved from 0.05959 to 0.05292, saving model to /output/model01.hd5\n",
      "valid acc: 98.810000%\n",
      "Epoch 33/100\n",
      "80000/80000 [==============================] - 74s 926us/step - loss: 0.0225 - val_loss: 0.0753\n",
      "\n",
      "Epoch 00033: val_loss did not improve from 0.05292\n",
      "valid acc: 98.340000%\n",
      "Epoch 34/100\n",
      "80000/80000 [==============================] - 74s 927us/step - loss: 0.0211 - val_loss: 0.0661\n",
      "\n",
      "Epoch 00034: val_loss did not improve from 0.05292\n",
      "valid acc: 98.730000%\n",
      "Epoch 35/100\n",
      "80000/80000 [==============================] - 74s 925us/step - loss: 0.0216 - val_loss: 0.0817\n",
      "\n",
      "Epoch 00035: val_loss did not improve from 0.05292\n",
      "valid acc: 98.340000%\n",
      "Epoch 36/100\n",
      "80000/80000 [==============================] - 74s 926us/step - loss: 0.0179 - val_loss: 0.0461\n",
      "\n",
      "Epoch 00036: val_loss improved from 0.05292 to 0.04611, saving model to /output/model01.hd5\n",
      "valid acc: 98.890000%\n",
      "Epoch 37/100\n",
      "80000/80000 [==============================] - 74s 926us/step - loss: 0.0185 - val_loss: 0.0536\n",
      "\n",
      "Epoch 00037: val_loss did not improve from 0.04611\n",
      "valid acc: 98.820000%\n",
      "Epoch 38/100\n",
      "80000/80000 [==============================] - 74s 925us/step - loss: 0.0175 - val_loss: 0.0910\n",
      "\n",
      "Epoch 00038: val_loss did not improve from 0.04611\n",
      "valid acc: 98.370000%\n",
      "Epoch 39/100\n",
      "80000/80000 [==============================] - 74s 925us/step - loss: 0.0172 - val_loss: 0.0532\n",
      "\n",
      "Epoch 00039: val_loss did not improve from 0.04611\n",
      "valid acc: 99.000000%\n",
      "Epoch 40/100\n",
      "80000/80000 [==============================] - 74s 927us/step - loss: 0.0213 - val_loss: 0.0571\n",
      "\n",
      "Epoch 00040: val_loss did not improve from 0.04611\n",
      "valid acc: 98.970000%\n",
      "Epoch 41/100\n",
      "80000/80000 [==============================] - 74s 926us/step - loss: 0.0170 - val_loss: 0.0718\n"
     ]
    },
    {
     "name": "stdout",
     "output_type": "stream",
     "text": [
      "\n",
      "Epoch 00041: val_loss did not improve from 0.04611\n",
      "valid acc: 98.600000%\n",
      "Epoch 42/100\n",
      "80000/80000 [==============================] - 74s 925us/step - loss: 0.0194 - val_loss: 0.0500\n",
      "\n",
      "Epoch 00042: val_loss did not improve from 0.04611\n",
      "valid acc: 98.910000%\n",
      "Epoch 43/100\n",
      "80000/80000 [==============================] - 74s 925us/step - loss: 0.0170 - val_loss: 0.0706\n",
      "\n",
      "Epoch 00043: val_loss did not improve from 0.04611\n",
      "valid acc: 98.580000%\n",
      "Epoch 44/100\n",
      "80000/80000 [==============================] - 74s 926us/step - loss: 0.0148 - val_loss: 0.0510\n",
      "\n",
      "Epoch 00044: val_loss did not improve from 0.04611\n",
      "valid acc: 99.040000%\n",
      "Epoch 45/100\n",
      "80000/80000 [==============================] - 74s 926us/step - loss: 0.0139 - val_loss: 0.0694\n",
      "\n",
      "Epoch 00045: val_loss did not improve from 0.04611\n",
      "valid acc: 98.610000%\n",
      "Epoch 46/100\n",
      "80000/80000 [==============================] - 74s 925us/step - loss: 0.0156 - val_loss: 0.0645\n",
      "\n",
      "Epoch 00046: val_loss did not improve from 0.04611\n",
      "valid acc: 98.610000%\n",
      "Epoch 00046: early stopping\n"
     ]
    }
   ],
   "source": [
    "checkpointer = ModelCheckpoint(filepath=model_file_path, \n",
    "                               verbose=1, monitor='val_loss', save_best_only=True)\n",
    "esp = EarlyStopping(monitor='val_loss', patience=10, verbose=1)\n",
    "tb = TensorBoard(log_dir='./output', update_freq='epoch')\n",
    "\n",
    "# 最终模型的输入：\n",
    "# input_tensor = X_train\n",
    "# labels = y_train\n",
    "input_len_to_ctc = np.array(np.ones((len(X_train),1))*base_model.output_shape[1])\n",
    "label_len_to_ctc = label_length_train\n",
    "\n",
    "input_len_to_ctc2 = np.array(np.ones((len(X_valid),1))*base_model.output_shape[1])\n",
    "label_len_to_ctc2 = label_length_valid\n",
    "\n",
    "\n",
    "fited = model.fit(x=[X_train, y_train, input_len_to_ctc, label_len_to_ctc], \n",
    "                  y=np.ones(len(y_train)),\n",
    "                  validation_data=([X_valid, y_valid, input_len_to_ctc2, label_len_to_ctc2], np.ones(len(y_valid))),\n",
    "                  batch_size=200, epochs=100, callbacks=[checkpointer, evaluator, esp, tb], verbose=1)"
   ]
  },
  {
   "cell_type": "markdown",
   "metadata": {},
   "source": [
    "## 测试验证"
   ]
  },
  {
   "cell_type": "code",
   "execution_count": 50,
   "metadata": {},
   "outputs": [
    {
     "name": "stdout",
     "output_type": "stream",
     "text": [
      "test_acc: 99.030000%\n"
     ]
    }
   ],
   "source": [
    "base_model.load_weights(model_file_path)\n",
    "pred = base_model.predict(X_test)\n",
    "sequence, new_labels = decode(pred)\n",
    "test_acc = (new_labels==labels_test).mean()*100\n",
    "print('test_acc: %f%%'%test_acc)"
   ]
  },
  {
   "cell_type": "code",
   "execution_count": 32,
   "metadata": {},
   "outputs": [],
   "source": [
    "model.save('model')"
   ]
  },
  {
   "cell_type": "code",
   "execution_count": 34,
   "metadata": {},
   "outputs": [
    {
     "name": "stdout",
     "output_type": "stream",
     "text": [
      "dict_keys(['val_loss', 'loss'])\n"
     ]
    },
    {
     "data": {
      "image/png": "[encoded data removed]",
      "text/plain": [
       "<Figure size 432x288 with 1 Axes>"
      ]
     },
     "metadata": {
      "needs_background": "light"
     },
     "output_type": "display_data"
    }
   ],
   "source": [
    "print(fited.history.keys())\n",
    "# 模型训练过程中的loss\n",
    "plt.plot(fited.history['loss'])\n",
    "plt.plot(fited.history['val_loss'])\n",
    "plt.title('model loss')\n",
    "plt.ylabel('loss')\n",
    "plt.xlabel('epoch')\n",
    "plt.legend(['train', 'test'], loc='upper right')\n",
    "plt.show()"
   ]
  },
  {
   "cell_type": "code",
   "execution_count": 35,
   "metadata": {},
   "outputs": [
    {
     "data": {
      "image/png": "[encoded data removed]",
      "text/plain": [
       "<Figure size 432x288 with 1 Axes>"
      ]
     },
     "metadata": {
      "needs_background": "light"
     },
     "output_type": "display_data"
    }
   ],
   "source": [
    "# 模型训练中的准确率\n",
    "acc = evaluator.accs\n",
    "plt.plot(acc)\n",
    "plt.title('model accuracy')\n",
    "plt.ylabel('accuracy')\n",
    "plt.xlabel('epoch')\n",
    "plt.show()"
   ]
  },
  {
   "cell_type": "code",
   "execution_count": 54,
   "metadata": {},
   "outputs": [
    {
     "name": "stdout",
     "output_type": "stream",
     "text": [
      "['input/train/38162.jpg', 'input/train/95382.jpg', 'input/train/33267.jpg', 'input/train/96645.jpg', 'input/train/97804.jpg']\n",
      "['4++3-11  ======== 6' '8*((00++9)======7 2' '6-(99-0)) =====-- 3'\n",
      " '3*(5-11)  ======1 2' '8++3+22   ======1 3']\n",
      "['4+3-1=6' '8*(0+9)=72' '6-(9-0)=-3' '3*(5-1)=12' '8+3+2=13']\n"
     ]
    }
   ],
   "source": [
    "# 查看测试集上模型的输出\n",
    "print(img_path_test[:5])\n",
    "print(sequence[:5])\n",
    "print(new_labels[:5])"
   ]
  },
  {
   "cell_type": "code",
   "execution_count": 86,
   "metadata": {},
   "outputs": [
    {
     "data": {
      "text/plain": [
       "0.27835051546391754"
      ]
     },
     "execution_count": 86,
     "metadata": {},
     "output_type": "execute_result"
    }
   ],
   "source": [
    "#查看识别错误的算式\n",
    "a,b = zip(*((i,j) for i, j in zip(new_labels, labels_test) if i !=j))\n",
    "c = np.array([a, b])\n",
    "l1 = np.array([len(i) for i in c[0]])\n",
    "l2 = np.array([len(i) for i in c[1]])\n",
    "# 预测长度错误的比例\n",
    "np.array([l1!=l2]).mean()"
   ]
  },
  {
   "cell_type": "code",
   "execution_count": 71,
   "metadata": {},
   "outputs": [
    {
     "data": {
      "text/plain": [
       "array([['(2*8)+5=27', '(2*8)+5=21'],\n",
       "       ['(9*17)*1=9', '(9*1)*1=9'],\n",
       "       ['3-4+1=-0', '3-4*1=-1'],\n",
       "       ['0*(5-2)=3', '0+(5-2)=3'],\n",
       "       ['6+2*1=18', '6+2*1=8'],\n",
       "       ['7*8+1=51', '7*8+1=57'],\n",
       "       ['1-1*2=-13', '1-7*2=-13'],\n",
       "       ['0-(8*9)=-12', '0-(8*9)=-72'],\n",
       "       ['9*3-6=27', '9*3-6=21'],\n",
       "       ['2+(4*9)=36', '2+(4*9)=38'],\n",
       "       ['9*2*7=226', '9*2*7=126'],\n",
       "       ['(14)-4=-7', '(1-4)-4=-7'],\n",
       "       ['1+8-2=1', '1+8-2=7'],\n",
       "       ['3+(1+2)=12', '3+(7+2)=12'],\n",
       "       ['(9*0)*7=0', '(9*0)*2=0'],\n",
       "       ['4+(1*5)=39', '4+(7*5)=39'],\n",
       "       ['(3*6)*6=90', '(3*6)*5=90'],\n",
       "       ['9*(7+2)=27', '9*(1+2)=27'],\n",
       "       ['4*7*7=96', '4*7*7=196'],\n",
       "       ['9*8*8=0', '0*8*8=0'],\n",
       "       ['(0-8)+7=-7', '(0-8)+1=-7'],\n",
       "       ['1-9-0=8', '1-9-0=-8'],\n",
       "       ['1-(4-6)=9', '7-(4-6)=9'],\n",
       "       ['(4+5)*9=88', '(4+5)*9=81'],\n",
       "       ['(8*1)+9=9', '(0*1)+9=9'],\n",
       "       ['5-(9+6)=10', '5-(9+6)=-10'],\n",
       "       ['(3+4)+0=12', '(3*4)+0=12'],\n",
       "       ['3+(7*6)=9', '3+(1*6)=9'],\n",
       "       ['4+5+1=16', '4+5+7=16'],\n",
       "       ['(5*0)-0=5', '(5+0)-0=5'],\n",
       "       ['0+6+7=7', '0+6+1=7'],\n",
       "       ['3+4*9=33', '3+4*9=39'],\n",
       "       ['(6-4)*7=2', '(6-4)*1=2'],\n",
       "       ['1-2+7=0', '1-2+1=0'],\n",
       "       ['0-(3*5)=-7', '8-(3*5)=-7'],\n",
       "       ['(8+3*3=33', '(8+3)*3=33'],\n",
       "       ['(2+9)+9=19', '(1+9)+9=19'],\n",
       "       ['4*8-1=30', '4*8-2=30'],\n",
       "       ['4+(2+1)=12', '4*(2+1)=12'],\n",
       "       ['(7+8)*9=115', '(7+8)*9=135'],\n",
       "       ['(15-8=-12', '(1-5)-8=-12'],\n",
       "       ['(0-3)+6=7', '(0-3)+6=3'],\n",
       "       ['1+5+9=46', '1+5*9=46'],\n",
       "       ['5+5-9=7', '5+5-9=1'],\n",
       "       ['8*1+3=11', '(8*1)+3=11'],\n",
       "       ['(7+9)-1=14', '(7+9)-2=14'],\n",
       "       ['3+(9+0)=21', '3+(9+9)=21'],\n",
       "       ['3-8-6)=1', '3-(8-6)=1'],\n",
       "       ['(5-5)2=0', '(5-5)*2=0'],\n",
       "       ['0*(2-5)=6', '0*(2-5)=0'],\n",
       "       ['7+7+8=16', '7+1+8=16'],\n",
       "       ['(9-0)*9=84', '(9-0)*9=81'],\n",
       "       ['7-3+9=-13', '7-3+9=13'],\n",
       "       ['5+(1+9)=21', '5+(7+9)=21'],\n",
       "       ['(4+4)-4=1', '(4+4)-4=4'],\n",
       "       ['(3+9)*6=12', '(3+9)*6=72'],\n",
       "       ['0-5+0)=-5', '0-(5+0)=-5'],\n",
       "       ['(4-7)+1=4', '(4-7)+7=4'],\n",
       "       ['(9+5)*4=6', '(9+5)*4=56'],\n",
       "       ['3+(3-7)=5', '3+(3-1)=5'],\n",
       "       ['3*(0+6)=45', '3*(9+6)=45'],\n",
       "       ['1*2+7=3', '1*2+1=3'],\n",
       "       ['0+5*7=12', '0+5+7=12'],\n",
       "       ['7+(0*4)=11', '7+(0+4)=11'],\n",
       "       ['(1*9)+0=15', '(1*9)+6=15'],\n",
       "       ['3-3*8=8', '3-3+8=8'],\n",
       "       ['(3*6)+3=1', '(3*6)+3=21'],\n",
       "       ['7*(6*7)=42', '7*(6*1)=42'],\n",
       "       ['9*9*5)=405', '9*(9*5)=405'],\n",
       "       ['3+(6+3)=14', '3+(8+3)=14'],\n",
       "       ['3*(*7)=147', '3*(7*7)=147'],\n",
       "       ['2+(8*7)=8', '2+(8*7)=58'],\n",
       "       ['(4+0)+7=20', '(4+9)+7=20'],\n",
       "       ['8-(2*9)=10', '8-(2*9)=-10'],\n",
       "       ['1-(4+2)=-6', '1-(4+3)=-6'],\n",
       "       ['2-2+9)=-9', '2-(2+9)=-9'],\n",
       "       ['7*(3+4=11', '4*0+8=8'],\n",
       "       ['0-(7*6)=42', '0-(7*6)=-42'],\n",
       "       ['(9+3)*9=105', '(9+3)*9=108'],\n",
       "       ['8*1-6=10', '8*2-6=10'],\n",
       "       ['9-(3-5)=12', '9-(3-6)=12'],\n",
       "       ['9+(1*6)=51', '9+(7*6)=51'],\n",
       "       ['1*7)*7=49', '(1*7)*7=49'],\n",
       "       ['7*3-7)=-28', '7*(3-7)=-28'],\n",
       "       ['9+(4*1)=37', '9+(4*7)=37'],\n",
       "       ['2*8*8=144', '2*8*9=144'],\n",
       "       ['2*4+6=10', '1*4+6=10'],\n",
       "       ['5*5*0=25', '5*5+0=25'],\n",
       "       ['1*9*7=33', '1*9*7=63'],\n",
       "       ['6+5+8=11', '6+5+0=11'],\n",
       "       ['6+6*1=48', '6+6*7=48'],\n",
       "       ['0+4-6=-6', '0*4-6=-6'],\n",
       "       ['8+(8-2)=48', '8*(8-2)=48'],\n",
       "       ['0+0-4)=4', '0-(0-4)=4'],\n",
       "       ['(56)+3=33', '(5*6)+3=33'],\n",
       "       ['5*(1+7)=0', '5*(1+7)=40'],\n",
       "       ['0+(3+8)=17', '0+(3+8)=11']], dtype='<U11')"
      ]
     },
     "execution_count": 71,
     "metadata": {},
     "output_type": "execute_result"
    }
   ],
   "source": [
    "#预测错误的部分\n",
    "c.T"
   ]
  },
  {
   "cell_type": "code",
   "execution_count": 36,
   "metadata": {},
   "outputs": [],
   "source": [
    "# 尝试在其他图像上进行测试\n",
    "\n",
    "base_model.load_weights('model')\n",
    "ext_test_file = ['data/test{}.jpg'.format(i) for i in range(5)]\n",
    "tensor = paths_to_tensors(ext_test_file)\n",
    "pred = base_model.predict(tensor)\n",
    "sequence_out, new_labels = decode(pred)"
   ]
  },
  {
   "cell_type": "code",
   "execution_count": 46,
   "metadata": {},
   "outputs": [
    {
     "data": {
      "text/plain": [
       "<matplotlib.image.AxesImage at 0x7f0756e35390>"
      ]
     },
     "execution_count": 46,
     "metadata": {},
     "output_type": "execute_result"
    },
    {
     "data": {
      "image/png": "[encoded data removed]",
      "text/plain": [
       "<Figure size 432x288 with 1 Axes>"
      ]
     },
     "metadata": {
      "needs_background": "light"
     },
     "output_type": "display_data"
    }
   ],
   "source": [
    "img = cv2.imread(ext_test_file[0])\n",
    "img = cv2.cvtColor(img, cv2.COLOR_BGR2RGB)\n",
    "plt.imshow(img)"
   ]
  },
  {
   "cell_type": "code",
   "execution_count": 47,
   "metadata": {
    "scrolled": true
   },
   "outputs": [
    {
     "data": {
      "text/plain": [
       "<matplotlib.image.AxesImage at 0x7f0756b8c278>"
      ]
     },
     "execution_count": 47,
     "metadata": {},
     "output_type": "execute_result"
    },
    {
     "data": {
      "image/png": "[encoded data removed]",
      "text/plain": [
       "<Figure size 432x288 with 1 Axes>"
      ]
     },
     "metadata": {
      "needs_background": "light"
     },
     "output_type": "display_data"
    }
   ],
   "source": [
    "img = cv2.imread(ext_test_file[1])\n",
    "img = cv2.cvtColor(img, cv2.COLOR_BGR2RGB)\n",
    "plt.imshow(img)"
   ]
  },
  {
   "cell_type": "code",
   "execution_count": 37,
   "metadata": {},
   "outputs": [
    {
     "data": {
      "text/plain": [
       "array(['++10+000  ====111 0', '(777*7)*8  ==== 9 5',\n",
       "       '((227-2 7-7 === - 6', '((5+1+3))*2 ==1 1 4',\n",
       "       '1+++1   ========= 2'], dtype='<U19')"
      ]
     },
     "execution_count": 37,
     "metadata": {},
     "output_type": "execute_result"
    }
   ],
   "source": [
    "sequence_out"
   ]
  },
  {
   "cell_type": "code",
   "execution_count": 38,
   "metadata": {},
   "outputs": [
    {
     "data": {
      "text/plain": [
       "array(['+10+0=10', '(7*7)*8=95', '(27-27-7=-6', '(5+1+3)*2=114', '1+1=2'],\n",
       "      dtype='<U13')"
      ]
     },
     "execution_count": 38,
     "metadata": {},
     "output_type": "execute_result"
    }
   ],
   "source": [
    "new_labels"
   ]
  }
 ],
 "metadata": {
  "kernelspec": {
   "display_name": "Python 3",
   "language": "python",
   "name": "python3"
  },
  "language_info": {
   "codemirror_mode": {
    "name": "ipython",
    "version": 3
   },
   "file_extension": ".py",
   "mimetype": "text/x-python",
   "name": "python",
   "nbconvert_exporter": "python",
   "pygments_lexer": "ipython3",
   "version": "3.6.6"
  }
 },
 "nbformat": 4,
 "nbformat_minor": 2
}
